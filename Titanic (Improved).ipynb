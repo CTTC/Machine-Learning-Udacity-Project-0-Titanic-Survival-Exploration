{
 "cells": [
  {
   "cell_type": "code",
   "execution_count": 303,
   "metadata": {
    "collapsed": false
   },
   "outputs": [],
   "source": [
    "import pandas as pd\n",
    "import numpy as np\n",
    "import matplotlib.pyplot  as plt\n",
    "%matplotlib inline"
   ]
  },
  {
   "cell_type": "code",
   "execution_count": 304,
   "metadata": {
    "collapsed": true
   },
   "outputs": [],
   "source": [
    "# read in the training and testing data into Pandas.DataFrame objects\n",
    "input_df = pd.read_csv('http://s3.amazonaws.com/assets.datacamp.com/course/Kaggle/train.csv', header=0)\n",
    "submit_df  = pd.read_csv('http://s3.amazonaws.com/assets.datacamp.com/course/Kaggle/test.csv',  header=0)"
   ]
  },
  {
   "cell_type": "code",
   "execution_count": 305,
   "metadata": {
    "collapsed": false
   },
   "outputs": [
    {
     "data": {
      "text/plain": [
       "(891, 12)"
      ]
     },
     "execution_count": 305,
     "metadata": {},
     "output_type": "execute_result"
    }
   ],
   "source": [
    "input_df.shape"
   ]
  },
  {
   "cell_type": "code",
   "execution_count": 306,
   "metadata": {
    "collapsed": false
   },
   "outputs": [
    {
     "data": {
      "text/html": [
       "<div>\n",
       "<table border=\"1\" class=\"dataframe\">\n",
       "  <thead>\n",
       "    <tr style=\"text-align: right;\">\n",
       "      <th></th>\n",
       "      <th>index</th>\n",
       "      <th>Age</th>\n",
       "      <th>Cabin</th>\n",
       "      <th>Embarked</th>\n",
       "      <th>Fare</th>\n",
       "      <th>Name</th>\n",
       "      <th>Parch</th>\n",
       "      <th>PassengerId</th>\n",
       "      <th>Pclass</th>\n",
       "      <th>Sex</th>\n",
       "      <th>SibSp</th>\n",
       "      <th>Survived</th>\n",
       "      <th>Ticket</th>\n",
       "    </tr>\n",
       "  </thead>\n",
       "  <tbody>\n",
       "    <tr>\n",
       "      <th>0</th>\n",
       "      <td>0</td>\n",
       "      <td>22</td>\n",
       "      <td>NaN</td>\n",
       "      <td>S</td>\n",
       "      <td>7.2500</td>\n",
       "      <td>Braund, Mr. Owen Harris</td>\n",
       "      <td>0</td>\n",
       "      <td>1</td>\n",
       "      <td>3</td>\n",
       "      <td>male</td>\n",
       "      <td>1</td>\n",
       "      <td>0</td>\n",
       "      <td>A/5 21171</td>\n",
       "    </tr>\n",
       "    <tr>\n",
       "      <th>1</th>\n",
       "      <td>1</td>\n",
       "      <td>38</td>\n",
       "      <td>C85</td>\n",
       "      <td>C</td>\n",
       "      <td>71.2833</td>\n",
       "      <td>Cumings, Mrs. John Bradley (Florence Briggs Th...</td>\n",
       "      <td>0</td>\n",
       "      <td>2</td>\n",
       "      <td>1</td>\n",
       "      <td>female</td>\n",
       "      <td>1</td>\n",
       "      <td>1</td>\n",
       "      <td>PC 17599</td>\n",
       "    </tr>\n",
       "    <tr>\n",
       "      <th>2</th>\n",
       "      <td>2</td>\n",
       "      <td>26</td>\n",
       "      <td>NaN</td>\n",
       "      <td>S</td>\n",
       "      <td>7.9250</td>\n",
       "      <td>Heikkinen, Miss. Laina</td>\n",
       "      <td>0</td>\n",
       "      <td>3</td>\n",
       "      <td>3</td>\n",
       "      <td>female</td>\n",
       "      <td>0</td>\n",
       "      <td>1</td>\n",
       "      <td>STON/O2. 3101282</td>\n",
       "    </tr>\n",
       "    <tr>\n",
       "      <th>3</th>\n",
       "      <td>3</td>\n",
       "      <td>35</td>\n",
       "      <td>C123</td>\n",
       "      <td>S</td>\n",
       "      <td>53.1000</td>\n",
       "      <td>Futrelle, Mrs. Jacques Heath (Lily May Peel)</td>\n",
       "      <td>0</td>\n",
       "      <td>4</td>\n",
       "      <td>1</td>\n",
       "      <td>female</td>\n",
       "      <td>1</td>\n",
       "      <td>1</td>\n",
       "      <td>113803</td>\n",
       "    </tr>\n",
       "    <tr>\n",
       "      <th>4</th>\n",
       "      <td>4</td>\n",
       "      <td>35</td>\n",
       "      <td>NaN</td>\n",
       "      <td>S</td>\n",
       "      <td>8.0500</td>\n",
       "      <td>Allen, Mr. William Henry</td>\n",
       "      <td>0</td>\n",
       "      <td>5</td>\n",
       "      <td>3</td>\n",
       "      <td>male</td>\n",
       "      <td>0</td>\n",
       "      <td>0</td>\n",
       "      <td>373450</td>\n",
       "    </tr>\n",
       "  </tbody>\n",
       "</table>\n",
       "</div>"
      ],
      "text/plain": [
       "   index  Age Cabin Embarked     Fare  \\\n",
       "0      0   22   NaN        S   7.2500   \n",
       "1      1   38   C85        C  71.2833   \n",
       "2      2   26   NaN        S   7.9250   \n",
       "3      3   35  C123        S  53.1000   \n",
       "4      4   35   NaN        S   8.0500   \n",
       "\n",
       "                                                Name  Parch  PassengerId  \\\n",
       "0                            Braund, Mr. Owen Harris      0            1   \n",
       "1  Cumings, Mrs. John Bradley (Florence Briggs Th...      0            2   \n",
       "2                             Heikkinen, Miss. Laina      0            3   \n",
       "3       Futrelle, Mrs. Jacques Heath (Lily May Peel)      0            4   \n",
       "4                           Allen, Mr. William Henry      0            5   \n",
       "\n",
       "   Pclass     Sex  SibSp  Survived            Ticket  \n",
       "0       3    male      1         0         A/5 21171  \n",
       "1       1  female      1         1          PC 17599  \n",
       "2       3  female      0         1  STON/O2. 3101282  \n",
       "3       1  female      1         1            113803  \n",
       "4       3    male      0         0            373450  "
      ]
     },
     "execution_count": 306,
     "metadata": {},
     "output_type": "execute_result"
    }
   ],
   "source": [
    "# merge the two DataFrames into one\n",
    "df = pd.concat([input_df, submit_df])\n",
    "\n",
    "# re-number the combined data set so there aren't duplicate indexes\n",
    "df.head()\n",
    "df.reset_index(inplace=True)\n",
    "df.head()"
   ]
  },
  {
   "cell_type": "code",
   "execution_count": null,
   "metadata": {
    "collapsed": false
   },
   "outputs": [],
   "source": []
  },
  {
   "cell_type": "code",
   "execution_count": 307,
   "metadata": {
    "collapsed": false
   },
   "outputs": [
    {
     "name": "stdout",
     "output_type": "stream",
     "text": [
      "12 columns: ['PassengerId' 'Survived' 'Pclass' 'Name' 'Sex' 'Age' 'SibSp' 'Parch'\n",
      " 'Ticket' 'Fare' 'Cabin' 'Embarked']\n",
      "Row count: 1309\n"
     ]
    }
   ],
   "source": [
    "# reset_index() generates a new column that we don't want, so let's get rid of it\n",
    "df.drop('index', axis=1, inplace=True)\n",
    "\n",
    "# the remaining columns need to be reindexed so we can access the first column at '0' instead of '1'\n",
    "df = df.reindex_axis(input_df.columns, axis=1)\n",
    "\n",
    "print (df.shape[1], \"columns:\", df.columns.values)\n",
    "print (\"Row count:\", df.shape[0])"
   ]
  },
  {
   "cell_type": "markdown",
   "metadata": {},
   "source": [
    "## Dealing with the missing data and categorical data"
   ]
  },
  {
   "cell_type": "code",
   "execution_count": 308,
   "metadata": {
    "collapsed": false
   },
   "outputs": [
    {
     "name": "stderr",
     "output_type": "stream",
     "text": [
      "D:\\Program Files\\Anaconda2\\lib\\site-packages\\ipykernel\\__main__.py:2: SettingWithCopyWarning: \n",
      "A value is trying to be set on a copy of a slice from a DataFrame\n",
      "\n",
      "See the caveats in the documentation: http://pandas.pydata.org/pandas-docs/stable/indexing.html#indexing-view-versus-copy\n",
      "  from ipykernel import kernelapp as app\n"
     ]
    }
   ],
   "source": [
    "# Replace missing values with \"U0\"\n",
    "df['Cabin'][df.Cabin.isnull()] = 'U0'"
   ]
  },
  {
   "cell_type": "code",
   "execution_count": 309,
   "metadata": {
    "collapsed": false
   },
   "outputs": [
    {
     "name": "stderr",
     "output_type": "stream",
     "text": [
      "D:\\Program Files\\Anaconda2\\lib\\site-packages\\ipykernel\\__main__.py:2: SettingWithCopyWarning: \n",
      "A value is trying to be set on a copy of a slice from a DataFrame\n",
      "\n",
      "See the caveats in the documentation: http://pandas.pydata.org/pandas-docs/stable/indexing.html#indexing-view-versus-copy\n",
      "  from ipykernel import kernelapp as app\n"
     ]
    }
   ],
   "source": [
    "# Take the median of all non-null Fares and use that for all missing values\n",
    "df['Fare'][np.isnan(df['Fare']) ] = df['Fare'].median()"
   ]
  },
  {
   "cell_type": "code",
   "execution_count": 310,
   "metadata": {
    "collapsed": false
   },
   "outputs": [
    {
     "name": "stderr",
     "output_type": "stream",
     "text": [
      "D:\\Program Files\\Anaconda2\\lib\\site-packages\\ipykernel\\__main__.py:2: SettingWithCopyWarning: \n",
      "A value is trying to be set on a copy of a slice from a DataFrame\n",
      "\n",
      "See the caveats in the documentation: http://pandas.pydata.org/pandas-docs/stable/indexing.html#indexing-view-versus-copy\n",
      "  from ipykernel import kernelapp as app\n"
     ]
    }
   ],
   "source": [
    "# Replace missing values with most common port\n",
    "df.Embarked[ df.Embarked.isnull() ] = df.Embarked.dropna().mode().values\n",
    "# Create a dataframe of dummy variables for each distinct value of 'Embarked'\n",
    "# Rename the columns from 'S', 'C', 'Q' to 'Embarked_S', 'Embarked_C', 'Embarked_Q'\n",
    "# Add the new variables back to the original data set\n",
    "#df = pd.concat([df, pd.get_dummies(df['Embarked']).rename(columns=lambda x: 'Embarked_' + str(x))], axis=1)\n",
    "df[\"Embarked_ID\"] = pd.factorize(df[\"Embarked\"])[0]"
   ]
  },
  {
   "cell_type": "code",
   "execution_count": 311,
   "metadata": {
    "collapsed": false
   },
   "outputs": [
    {
     "name": "stderr",
     "output_type": "stream",
     "text": [
      "D:\\Program Files\\Anaconda2\\lib\\site-packages\\ipykernel\\__main__.py:4: SettingWithCopyWarning: \n",
      "A value is trying to be set on a copy of a slice from a DataFrame\n",
      "\n",
      "See the caveats in the documentation: http://pandas.pydata.org/pandas-docs/stable/indexing.html#indexing-view-versus-copy\n"
     ]
    }
   ],
   "source": [
    "import re\n",
    "\n",
    "# Replace missing values with \"U0\"\n",
    "df['Cabin'][df.Cabin.isnull()] = 'U0'\n",
    " \n",
    "# Create a feature for the deck\n",
    "df['Deck'] = df['Cabin'].map( lambda x : re.compile(\"([a-zA-Z]+)\").search(x).group())\n",
    "df['Deck'] = pd.factorize(df['Deck'])[0]\n",
    " \n",
    "# Create binary features for each deck\n",
    "#decks = pd.get_dummies(df['Deck']).rename(columns=lambda x: 'Deck_' + str(x))\n",
    "#df = pd.concat([df, decks], axis=1)"
   ]
  },
  {
   "cell_type": "code",
   "execution_count": 312,
   "metadata": {
    "collapsed": false
   },
   "outputs": [],
   "source": [
    "def get_num(x):\n",
    "    if(re.compile(\"([0-9]+)\").search(x) != None):\n",
    "        return re.compile(\"([0-9]+)\").search(x).group()\n",
    "    else:\n",
    "        return 0      "
   ]
  },
  {
   "cell_type": "code",
   "execution_count": 313,
   "metadata": {
    "collapsed": true
   },
   "outputs": [],
   "source": [
    "# Create feature for the room number\n",
    "df['Room'] = df['Cabin'].map( lambda x : get_num(x)).astype(int) + 1"
   ]
  },
  {
   "cell_type": "code",
   "execution_count": 314,
   "metadata": {
    "collapsed": false
   },
   "outputs": [],
   "source": [
    "# Divide all fares into quartiles\n",
    "df['Fare_bin'] = pd.qcut(df['Fare'], 4)\n",
    "\n",
    "# qcut() creates a new variable that identifies the quartile range, but we can't use the string so either\n",
    "# factorize or create dummies from the result\n",
    "df['Fare_bin_id'] = pd.factorize(df['Fare_bin'])[0]\n",
    "\n",
    "#df = pd.concat([df, pd.get_dummies(df['Fare_bin']).rename(columns=lambda x: 'Fare_' + str(x))], axis=1)"
   ]
  },
  {
   "cell_type": "code",
   "execution_count": 315,
   "metadata": {
    "collapsed": false
   },
   "outputs": [],
   "source": [
    "# how many different names do they have? \n",
    "df['Names'] = df['Name'].map(lambda x: len(re.split(' ', x)))"
   ]
  },
  {
   "cell_type": "code",
   "execution_count": 316,
   "metadata": {
    "collapsed": false
   },
   "outputs": [
    {
     "name": "stderr",
     "output_type": "stream",
     "text": [
      "D:\\Program Files\\Anaconda2\\lib\\site-packages\\ipykernel\\__main__.py:5: SettingWithCopyWarning: \n",
      "A value is trying to be set on a copy of a slice from a DataFrame\n",
      "\n",
      "See the caveats in the documentation: http://pandas.pydata.org/pandas-docs/stable/indexing.html#indexing-view-versus-copy\n",
      "D:\\Program Files\\Anaconda2\\lib\\site-packages\\ipykernel\\__main__.py:6: SettingWithCopyWarning: \n",
      "A value is trying to be set on a copy of a slice from a DataFrame\n",
      "\n",
      "See the caveats in the documentation: http://pandas.pydata.org/pandas-docs/stable/indexing.html#indexing-view-versus-copy\n",
      "D:\\Program Files\\Anaconda2\\lib\\site-packages\\ipykernel\\__main__.py:7: SettingWithCopyWarning: \n",
      "A value is trying to be set on a copy of a slice from a DataFrame\n",
      "\n",
      "See the caveats in the documentation: http://pandas.pydata.org/pandas-docs/stable/indexing.html#indexing-view-versus-copy\n",
      "D:\\Program Files\\Anaconda2\\lib\\site-packages\\ipykernel\\__main__.py:8: SettingWithCopyWarning: \n",
      "A value is trying to be set on a copy of a slice from a DataFrame\n",
      "\n",
      "See the caveats in the documentation: http://pandas.pydata.org/pandas-docs/stable/indexing.html#indexing-view-versus-copy\n",
      "D:\\Program Files\\Anaconda2\\lib\\site-packages\\ipykernel\\__main__.py:9: SettingWithCopyWarning: \n",
      "A value is trying to be set on a copy of a slice from a DataFrame\n",
      "\n",
      "See the caveats in the documentation: http://pandas.pydata.org/pandas-docs/stable/indexing.html#indexing-view-versus-copy\n"
     ]
    }
   ],
   "source": [
    "# What is each person's title? \n",
    "df['Title'] = df['Name'].map(lambda x: re.compile(\", (.*?)\\.\").findall(x)[0])\n",
    "\n",
    "# Group low-occuring, related titles together\n",
    "df['Title'][df.Title == 'Jonkheer'] = 'Master'\n",
    "df['Title'][df.Title.isin(['Ms','Mlle'])] = 'Miss'\n",
    "df['Title'][df.Title == 'Mme'] = 'Mrs'\n",
    "df['Title'][df.Title.isin(['Capt', 'Don', 'Major', 'Col', 'Sir'])] = 'Sir'\n",
    "df['Title'][df.Title.isin(['Dona', 'Lady', 'the Countess'])] = 'Lady'\n",
    "df['Title_ID'] = pd.factorize(df['Title'])[0]\n",
    "# Build binary features\n",
    "#df = pd.concat([df, pd.get_dummies(df['Title']).rename(columns=lambda x: 'Title_' + str(x))], axis=1)"
   ]
  },
  {
   "cell_type": "code",
   "execution_count": 317,
   "metadata": {
    "collapsed": false
   },
   "outputs": [
    {
     "name": "stderr",
     "output_type": "stream",
     "text": [
      "D:\\Program Files\\Anaconda2\\lib\\site-packages\\ipykernel\\__main__.py:1: SettingWithCopyWarning: \n",
      "A value is trying to be set on a copy of a slice from a DataFrame\n",
      "\n",
      "See the caveats in the documentation: http://pandas.pydata.org/pandas-docs/stable/indexing.html#indexing-view-versus-copy\n",
      "  if __name__ == '__main__':\n",
      "D:\\Program Files\\Anaconda2\\lib\\site-packages\\ipykernel\\__main__.py:2: SettingWithCopyWarning: \n",
      "A value is trying to be set on a copy of a slice from a DataFrame\n",
      "\n",
      "See the caveats in the documentation: http://pandas.pydata.org/pandas-docs/stable/indexing.html#indexing-view-versus-copy\n",
      "  from ipykernel import kernelapp as app\n"
     ]
    }
   ],
   "source": [
    "df['Sex'][df['Sex'] == 'male'] = 0\n",
    "df['Sex'][df['Sex'] == 'female'] = 1"
   ]
  },
  {
   "cell_type": "code",
   "execution_count": 318,
   "metadata": {
    "collapsed": true
   },
   "outputs": [],
   "source": [
    "from sklearn.ensemble import RandomForestRegressor\n",
    " \n",
    "### Populate missing ages  using RandomForestClassifier\n",
    "def setMissingAges(df):\n",
    "    \n",
    "    # Grab all the features that can be included in a Random Forest Regressor\n",
    "    age_df = df[['Age','Embarked_ID','Fare', 'Parch', 'SibSp', 'Title_ID','Pclass','Deck']]\n",
    "    \n",
    "    # Split into sets with known and unknown Age values\n",
    "    knownAge = age_df.loc[ (df.Age.notnull()) ]\n",
    "    unknownAge = age_df.loc[ (df.Age.isnull()) ]\n",
    "    \n",
    "    # All age values are stored in a target array\n",
    "    y = knownAge.values[:, 0]\n",
    "    \n",
    "    # All the other values are stored in the feature array\n",
    "    X = knownAge.values[:, 1::]\n",
    "    \n",
    "    # Create and fit a model\n",
    "    rtr = RandomForestRegressor(n_estimators=2000, n_jobs=-1)\n",
    "    rtr.fit(X, y)\n",
    "    \n",
    "    # Use the fitted model to predict the missing values\n",
    "    predictedAges = rtr.predict(unknownAge.values[:, 1::])\n",
    "    \n",
    "    # Assign those predictions to the full data set\n",
    "    df.loc[ (df.Age.isnull()), 'Age' ] = predictedAges \n",
    "    \n",
    "    return df"
   ]
  },
  {
   "cell_type": "code",
   "execution_count": 319,
   "metadata": {
    "collapsed": false
   },
   "outputs": [
    {
     "name": "stderr",
     "output_type": "stream",
     "text": [
      "D:\\Program Files\\Anaconda2\\lib\\site-packages\\sklearn\\preprocessing\\data.py:583: DeprecationWarning: Passing 1d arrays as data is deprecated in 0.17 and will raise ValueError in 0.19. Reshape your data either using X.reshape(-1, 1) if your data has a single feature or X.reshape(1, -1) if it contains a single sample.\n",
      "  warnings.warn(DEPRECATION_MSG_1D, DeprecationWarning)\n",
      "D:\\Program Files\\Anaconda2\\lib\\site-packages\\sklearn\\preprocessing\\data.py:646: DeprecationWarning: Passing 1d arrays as data is deprecated in 0.17 and will raise ValueError in 0.19. Reshape your data either using X.reshape(-1, 1) if your data has a single feature or X.reshape(1, -1) if it contains a single sample.\n",
      "  warnings.warn(DEPRECATION_MSG_1D, DeprecationWarning)\n"
     ]
    }
   ],
   "source": [
    "# StandardScaler will subtract the mean from each value then scale to the unit variance\n",
    "from sklearn import preprocessing\n",
    "scaler = preprocessing.StandardScaler()\n",
    "df =setMissingAges(df)\n",
    "df['Age_scaled'] = scaler.fit_transform(df['Age'])"
   ]
  },
  {
   "cell_type": "code",
   "execution_count": 320,
   "metadata": {
    "collapsed": true
   },
   "outputs": [],
   "source": [
    "df['Age_bin'] = pd.qcut(df['Age'], 5)\n",
    "df['Age_bin_id'] = pd.factorize(df['Age_bin'])[0]"
   ]
  },
  {
   "cell_type": "code",
   "execution_count": 321,
   "metadata": {
    "collapsed": false
   },
   "outputs": [
    {
     "name": "stderr",
     "output_type": "stream",
     "text": [
      "D:\\Program Files\\Anaconda2\\lib\\site-packages\\sklearn\\preprocessing\\data.py:583: DeprecationWarning: Passing 1d arrays as data is deprecated in 0.17 and will raise ValueError in 0.19. Reshape your data either using X.reshape(-1, 1) if your data has a single feature or X.reshape(1, -1) if it contains a single sample.\n",
      "  warnings.warn(DEPRECATION_MSG_1D, DeprecationWarning)\n",
      "D:\\Program Files\\Anaconda2\\lib\\site-packages\\sklearn\\preprocessing\\data.py:646: DeprecationWarning: Passing 1d arrays as data is deprecated in 0.17 and will raise ValueError in 0.19. Reshape your data either using X.reshape(-1, 1) if your data has a single feature or X.reshape(1, -1) if it contains a single sample.\n",
      "  warnings.warn(DEPRECATION_MSG_1D, DeprecationWarning)\n",
      "D:\\Program Files\\Anaconda2\\lib\\site-packages\\sklearn\\utils\\validation.py:420: DataConversionWarning: Data with input dtype int64 was converted to float64 by StandardScaler.\n",
      "  warnings.warn(msg, DataConversionWarning)\n",
      "D:\\Program Files\\Anaconda2\\lib\\site-packages\\sklearn\\preprocessing\\data.py:583: DeprecationWarning: Passing 1d arrays as data is deprecated in 0.17 and will raise ValueError in 0.19. Reshape your data either using X.reshape(-1, 1) if your data has a single feature or X.reshape(1, -1) if it contains a single sample.\n",
      "  warnings.warn(DEPRECATION_MSG_1D, DeprecationWarning)\n",
      "D:\\Program Files\\Anaconda2\\lib\\site-packages\\sklearn\\utils\\validation.py:420: DataConversionWarning: Data with input dtype int64 was converted to float64 by StandardScaler.\n",
      "  warnings.warn(msg, DataConversionWarning)\n",
      "D:\\Program Files\\Anaconda2\\lib\\site-packages\\sklearn\\preprocessing\\data.py:646: DeprecationWarning: Passing 1d arrays as data is deprecated in 0.17 and will raise ValueError in 0.19. Reshape your data either using X.reshape(-1, 1) if your data has a single feature or X.reshape(1, -1) if it contains a single sample.\n",
      "  warnings.warn(DEPRECATION_MSG_1D, DeprecationWarning)\n",
      "D:\\Program Files\\Anaconda2\\lib\\site-packages\\sklearn\\utils\\validation.py:420: DataConversionWarning: Data with input dtype int64 was converted to float64 by StandardScaler.\n",
      "  warnings.warn(msg, DataConversionWarning)\n",
      "D:\\Program Files\\Anaconda2\\lib\\site-packages\\sklearn\\preprocessing\\data.py:583: DeprecationWarning: Passing 1d arrays as data is deprecated in 0.17 and will raise ValueError in 0.19. Reshape your data either using X.reshape(-1, 1) if your data has a single feature or X.reshape(1, -1) if it contains a single sample.\n",
      "  warnings.warn(DEPRECATION_MSG_1D, DeprecationWarning)\n",
      "D:\\Program Files\\Anaconda2\\lib\\site-packages\\sklearn\\utils\\validation.py:420: DataConversionWarning: Data with input dtype int64 was converted to float64 by StandardScaler.\n",
      "  warnings.warn(msg, DataConversionWarning)\n",
      "D:\\Program Files\\Anaconda2\\lib\\site-packages\\sklearn\\preprocessing\\data.py:646: DeprecationWarning: Passing 1d arrays as data is deprecated in 0.17 and will raise ValueError in 0.19. Reshape your data either using X.reshape(-1, 1) if your data has a single feature or X.reshape(1, -1) if it contains a single sample.\n",
      "  warnings.warn(DEPRECATION_MSG_1D, DeprecationWarning)\n",
      "D:\\Program Files\\Anaconda2\\lib\\site-packages\\sklearn\\utils\\validation.py:420: DataConversionWarning: Data with input dtype int64 was converted to float64 by StandardScaler.\n",
      "  warnings.warn(msg, DataConversionWarning)\n",
      "D:\\Program Files\\Anaconda2\\lib\\site-packages\\sklearn\\preprocessing\\data.py:583: DeprecationWarning: Passing 1d arrays as data is deprecated in 0.17 and will raise ValueError in 0.19. Reshape your data either using X.reshape(-1, 1) if your data has a single feature or X.reshape(1, -1) if it contains a single sample.\n",
      "  warnings.warn(DEPRECATION_MSG_1D, DeprecationWarning)\n",
      "D:\\Program Files\\Anaconda2\\lib\\site-packages\\sklearn\\utils\\validation.py:420: DataConversionWarning: Data with input dtype int64 was converted to float64 by StandardScaler.\n",
      "  warnings.warn(msg, DataConversionWarning)\n",
      "D:\\Program Files\\Anaconda2\\lib\\site-packages\\sklearn\\preprocessing\\data.py:646: DeprecationWarning: Passing 1d arrays as data is deprecated in 0.17 and will raise ValueError in 0.19. Reshape your data either using X.reshape(-1, 1) if your data has a single feature or X.reshape(1, -1) if it contains a single sample.\n",
      "  warnings.warn(DEPRECATION_MSG_1D, DeprecationWarning)\n",
      "D:\\Program Files\\Anaconda2\\lib\\site-packages\\sklearn\\utils\\validation.py:420: DataConversionWarning: Data with input dtype int64 was converted to float64 by StandardScaler.\n",
      "  warnings.warn(msg, DataConversionWarning)\n",
      "D:\\Program Files\\Anaconda2\\lib\\site-packages\\sklearn\\preprocessing\\data.py:583: DeprecationWarning: Passing 1d arrays as data is deprecated in 0.17 and will raise ValueError in 0.19. Reshape your data either using X.reshape(-1, 1) if your data has a single feature or X.reshape(1, -1) if it contains a single sample.\n",
      "  warnings.warn(DEPRECATION_MSG_1D, DeprecationWarning)\n",
      "D:\\Program Files\\Anaconda2\\lib\\site-packages\\sklearn\\utils\\validation.py:420: DataConversionWarning: Data with input dtype int64 was converted to float64 by StandardScaler.\n",
      "  warnings.warn(msg, DataConversionWarning)\n",
      "D:\\Program Files\\Anaconda2\\lib\\site-packages\\sklearn\\preprocessing\\data.py:646: DeprecationWarning: Passing 1d arrays as data is deprecated in 0.17 and will raise ValueError in 0.19. Reshape your data either using X.reshape(-1, 1) if your data has a single feature or X.reshape(1, -1) if it contains a single sample.\n",
      "  warnings.warn(DEPRECATION_MSG_1D, DeprecationWarning)\n",
      "D:\\Program Files\\Anaconda2\\lib\\site-packages\\sklearn\\utils\\validation.py:420: DataConversionWarning: Data with input dtype int32 was converted to float64 by StandardScaler.\n",
      "  warnings.warn(msg, DataConversionWarning)\n",
      "D:\\Program Files\\Anaconda2\\lib\\site-packages\\sklearn\\preprocessing\\data.py:583: DeprecationWarning: Passing 1d arrays as data is deprecated in 0.17 and will raise ValueError in 0.19. Reshape your data either using X.reshape(-1, 1) if your data has a single feature or X.reshape(1, -1) if it contains a single sample.\n",
      "  warnings.warn(DEPRECATION_MSG_1D, DeprecationWarning)\n",
      "D:\\Program Files\\Anaconda2\\lib\\site-packages\\sklearn\\utils\\validation.py:420: DataConversionWarning: Data with input dtype int32 was converted to float64 by StandardScaler.\n",
      "  warnings.warn(msg, DataConversionWarning)\n",
      "D:\\Program Files\\Anaconda2\\lib\\site-packages\\sklearn\\preprocessing\\data.py:646: DeprecationWarning: Passing 1d arrays as data is deprecated in 0.17 and will raise ValueError in 0.19. Reshape your data either using X.reshape(-1, 1) if your data has a single feature or X.reshape(1, -1) if it contains a single sample.\n",
      "  warnings.warn(DEPRECATION_MSG_1D, DeprecationWarning)\n",
      "D:\\Program Files\\Anaconda2\\lib\\site-packages\\sklearn\\utils\\validation.py:420: DataConversionWarning: Data with input dtype int32 was converted to float64 by StandardScaler.\n",
      "  warnings.warn(msg, DataConversionWarning)\n",
      "D:\\Program Files\\Anaconda2\\lib\\site-packages\\sklearn\\preprocessing\\data.py:583: DeprecationWarning: Passing 1d arrays as data is deprecated in 0.17 and will raise ValueError in 0.19. Reshape your data either using X.reshape(-1, 1) if your data has a single feature or X.reshape(1, -1) if it contains a single sample.\n",
      "  warnings.warn(DEPRECATION_MSG_1D, DeprecationWarning)\n",
      "D:\\Program Files\\Anaconda2\\lib\\site-packages\\sklearn\\utils\\validation.py:420: DataConversionWarning: Data with input dtype int32 was converted to float64 by StandardScaler.\n",
      "  warnings.warn(msg, DataConversionWarning)\n",
      "D:\\Program Files\\Anaconda2\\lib\\site-packages\\sklearn\\preprocessing\\data.py:646: DeprecationWarning: Passing 1d arrays as data is deprecated in 0.17 and will raise ValueError in 0.19. Reshape your data either using X.reshape(-1, 1) if your data has a single feature or X.reshape(1, -1) if it contains a single sample.\n",
      "  warnings.warn(DEPRECATION_MSG_1D, DeprecationWarning)\n",
      "D:\\Program Files\\Anaconda2\\lib\\site-packages\\sklearn\\utils\\validation.py:420: DataConversionWarning: Data with input dtype int32 was converted to float64 by StandardScaler.\n",
      "  warnings.warn(msg, DataConversionWarning)\n",
      "D:\\Program Files\\Anaconda2\\lib\\site-packages\\sklearn\\preprocessing\\data.py:583: DeprecationWarning: Passing 1d arrays as data is deprecated in 0.17 and will raise ValueError in 0.19. Reshape your data either using X.reshape(-1, 1) if your data has a single feature or X.reshape(1, -1) if it contains a single sample.\n",
      "  warnings.warn(DEPRECATION_MSG_1D, DeprecationWarning)\n",
      "D:\\Program Files\\Anaconda2\\lib\\site-packages\\sklearn\\utils\\validation.py:420: DataConversionWarning: Data with input dtype int32 was converted to float64 by StandardScaler.\n",
      "  warnings.warn(msg, DataConversionWarning)\n",
      "D:\\Program Files\\Anaconda2\\lib\\site-packages\\sklearn\\preprocessing\\data.py:646: DeprecationWarning: Passing 1d arrays as data is deprecated in 0.17 and will raise ValueError in 0.19. Reshape your data either using X.reshape(-1, 1) if your data has a single feature or X.reshape(1, -1) if it contains a single sample.\n",
      "  warnings.warn(DEPRECATION_MSG_1D, DeprecationWarning)\n",
      "D:\\Program Files\\Anaconda2\\lib\\site-packages\\sklearn\\utils\\validation.py:420: DataConversionWarning: Data with input dtype int32 was converted to float64 by StandardScaler.\n",
      "  warnings.warn(msg, DataConversionWarning)\n",
      "D:\\Program Files\\Anaconda2\\lib\\site-packages\\sklearn\\preprocessing\\data.py:583: DeprecationWarning: Passing 1d arrays as data is deprecated in 0.17 and will raise ValueError in 0.19. Reshape your data either using X.reshape(-1, 1) if your data has a single feature or X.reshape(1, -1) if it contains a single sample.\n",
      "  warnings.warn(DEPRECATION_MSG_1D, DeprecationWarning)\n",
      "D:\\Program Files\\Anaconda2\\lib\\site-packages\\sklearn\\utils\\validation.py:420: DataConversionWarning: Data with input dtype int32 was converted to float64 by StandardScaler.\n",
      "  warnings.warn(msg, DataConversionWarning)\n",
      "D:\\Program Files\\Anaconda2\\lib\\site-packages\\sklearn\\preprocessing\\data.py:646: DeprecationWarning: Passing 1d arrays as data is deprecated in 0.17 and will raise ValueError in 0.19. Reshape your data either using X.reshape(-1, 1) if your data has a single feature or X.reshape(1, -1) if it contains a single sample.\n",
      "  warnings.warn(DEPRECATION_MSG_1D, DeprecationWarning)\n"
     ]
    }
   ],
   "source": [
    "df['Fare_scaled'] = scaler.fit_transform(df['Fare'])\n",
    "df['Pclass_scaled'] = scaler.fit_transform(df['Pclass'])\n",
    "df['Parch_scaled'] = scaler.fit_transform(df['Parch'])\n",
    "df['SibSp_scaled'] = scaler.fit_transform(df['SibSp'])\n",
    "df['Names_scaled'] = scaler.fit_transform(df['Names'])\n",
    "df['CabinNumber_scaled'] = scaler.fit_transform(df['Room'])\n",
    "df['Age_bin_id_scaled'] = scaler.fit_transform(df['Age_bin_id'])\n",
    "df['Fare_bin_id_scaled'] = scaler.fit_transform(df['Fare_bin_id'])\n",
    "df[\"Embarked_ID_scaled\"] = scaler.fit_transform(df['Embarked_ID'])"
   ]
  },
  {
   "cell_type": "code",
   "execution_count": 322,
   "metadata": {
    "collapsed": true
   },
   "outputs": [],
   "source": [
    "def processTicket():\n",
    "    global df\n",
    "    \n",
    "    # extract and massage the ticket prefix\n",
    "    df['TicketPrefix'] = df['Ticket'].map( lambda x : getTicketPrefix(x.upper()))\n",
    "    df['TicketPrefix'] = df['TicketPrefix'].map( lambda x: re.sub('[\\.?\\/?]', '', x) )\n",
    "    df['TicketPrefix'] = df['TicketPrefix'].map( lambda x: re.sub('STON', 'SOTON', x) )\n",
    "        \n",
    "    # create binary features for each prefix\n",
    "    #prefixes = pd.get_dummies(df['TicketPrefix']).rename(columns=lambda x: 'TicketPrefix_' + str(x))\n",
    "    #df = pd.concat([df, prefixes], axis=1)\n",
    "    \n",
    "    # factorize the prefix to create a numerical categorical variable\n",
    "    df['TicketPrefixId'] = pd.factorize(df['TicketPrefix'])[0]\n",
    "    \n",
    "    # extract the ticket number\n",
    "    df['TicketNumber'] = df['Ticket'].map( lambda x: getTicketNumber(x) )\n",
    "    \n",
    "    # create a feature for the number of digits in the ticket number\n",
    "    df['TicketNumberDigits'] = df['TicketNumber'].map( lambda x: len(x) ).astype(np.int)\n",
    "    \n",
    "    # create a feature for the starting number of the ticket number\n",
    "    df['TicketNumberStart'] = df['TicketNumber'].map( lambda x: x[0:1] ).astype(np.int)\n",
    "    \n",
    "    # The prefix and (probably) number themselves aren't useful\n",
    "    df.drop(['TicketPrefix', 'TicketNumber'], axis=1, inplace=True)\n",
    "    \n",
    "\n",
    "def getTicketPrefix(ticket):\n",
    "    match = re.compile(\"([a-zA-Z\\.\\/]+)\").search(ticket)\n",
    "    if match:\n",
    "        return match.group()\n",
    "    else:\n",
    "        return 'U'\n",
    "\n",
    "def getTicketNumber(ticket):\n",
    "    match = re.compile(\"([\\d]+$)\").search(ticket)\n",
    "    if match:\n",
    "        return match.group()\n",
    "    else:\n",
    "        return '0'\n",
    "    "
   ]
  },
  {
   "cell_type": "code",
   "execution_count": 323,
   "metadata": {
    "collapsed": false
   },
   "outputs": [
    {
     "data": {
      "text/plain": [
       "Index([u'PassengerId', u'Survived', u'Pclass', u'Name', u'Sex', u'Age',\n",
       "       u'SibSp', u'Parch', u'Ticket', u'Fare', u'Cabin', u'Embarked',\n",
       "       u'Embarked_ID', u'Deck', u'Room', u'Fare_bin', u'Fare_bin_id', u'Names',\n",
       "       u'Title', u'Title_ID', u'Age_scaled', u'Age_bin', u'Age_bin_id',\n",
       "       u'Fare_scaled', u'Pclass_scaled', u'Parch_scaled', u'SibSp_scaled',\n",
       "       u'Names_scaled', u'CabinNumber_scaled', u'Age_bin_id_scaled',\n",
       "       u'Fare_bin_id_scaled', u'Embarked_ID_scaled'],\n",
       "      dtype='object')"
      ]
     },
     "execution_count": 323,
     "metadata": {},
     "output_type": "execute_result"
    }
   ],
   "source": [
    "df.columns"
   ]
  },
  {
   "cell_type": "code",
   "execution_count": 324,
   "metadata": {
    "collapsed": false
   },
   "outputs": [
    {
     "data": {
      "text/html": [
       "<div>\n",
       "<table border=\"1\" class=\"dataframe\">\n",
       "  <thead>\n",
       "    <tr style=\"text-align: right;\">\n",
       "      <th></th>\n",
       "      <th>PassengerId</th>\n",
       "      <th>Survived</th>\n",
       "      <th>Pclass</th>\n",
       "      <th>Name</th>\n",
       "      <th>Sex</th>\n",
       "      <th>Age</th>\n",
       "      <th>SibSp</th>\n",
       "      <th>Parch</th>\n",
       "      <th>Ticket</th>\n",
       "      <th>Fare</th>\n",
       "      <th>...</th>\n",
       "      <th>Age_bin_id</th>\n",
       "      <th>Fare_scaled</th>\n",
       "      <th>Pclass_scaled</th>\n",
       "      <th>Parch_scaled</th>\n",
       "      <th>SibSp_scaled</th>\n",
       "      <th>Names_scaled</th>\n",
       "      <th>CabinNumber_scaled</th>\n",
       "      <th>Age_bin_id_scaled</th>\n",
       "      <th>Fare_bin_id_scaled</th>\n",
       "      <th>Embarked_ID_scaled</th>\n",
       "    </tr>\n",
       "  </thead>\n",
       "  <tbody>\n",
       "    <tr>\n",
       "      <th>0</th>\n",
       "      <td>1</td>\n",
       "      <td>0</td>\n",
       "      <td>3</td>\n",
       "      <td>Braund, Mr. Owen Harris</td>\n",
       "      <td>0</td>\n",
       "      <td>22</td>\n",
       "      <td>1</td>\n",
       "      <td>0</td>\n",
       "      <td>A/5 21171</td>\n",
       "      <td>7.2500</td>\n",
       "      <td>...</td>\n",
       "      <td>0</td>\n",
       "      <td>-0.503291</td>\n",
       "      <td>0.841916</td>\n",
       "      <td>-0.445</td>\n",
       "      <td>0.481288</td>\n",
       "      <td>-0.075501</td>\n",
       "      <td>-0.420654</td>\n",
       "      <td>-1.409996</td>\n",
       "      <td>-1.323333</td>\n",
       "      <td>-0.603436</td>\n",
       "    </tr>\n",
       "    <tr>\n",
       "      <th>1</th>\n",
       "      <td>2</td>\n",
       "      <td>1</td>\n",
       "      <td>1</td>\n",
       "      <td>Cumings, Mrs. John Bradley (Florence Briggs Th...</td>\n",
       "      <td>1</td>\n",
       "      <td>38</td>\n",
       "      <td>1</td>\n",
       "      <td>0</td>\n",
       "      <td>PC 17599</td>\n",
       "      <td>71.2833</td>\n",
       "      <td>...</td>\n",
       "      <td>1</td>\n",
       "      <td>0.734744</td>\n",
       "      <td>-1.546098</td>\n",
       "      <td>-0.445</td>\n",
       "      <td>0.481288</td>\n",
       "      <td>2.458619</td>\n",
       "      <td>2.843455</td>\n",
       "      <td>-0.712722</td>\n",
       "      <td>-0.434547</td>\n",
       "      <td>0.927373</td>\n",
       "    </tr>\n",
       "    <tr>\n",
       "      <th>2</th>\n",
       "      <td>3</td>\n",
       "      <td>1</td>\n",
       "      <td>3</td>\n",
       "      <td>Heikkinen, Miss. Laina</td>\n",
       "      <td>1</td>\n",
       "      <td>26</td>\n",
       "      <td>0</td>\n",
       "      <td>0</td>\n",
       "      <td>STON/O2. 3101282</td>\n",
       "      <td>7.9250</td>\n",
       "      <td>...</td>\n",
       "      <td>0</td>\n",
       "      <td>-0.490240</td>\n",
       "      <td>0.841916</td>\n",
       "      <td>-0.445</td>\n",
       "      <td>-0.479087</td>\n",
       "      <td>-0.920208</td>\n",
       "      <td>-0.420654</td>\n",
       "      <td>-1.409996</td>\n",
       "      <td>0.454238</td>\n",
       "      <td>-0.603436</td>\n",
       "    </tr>\n",
       "    <tr>\n",
       "      <th>3</th>\n",
       "      <td>4</td>\n",
       "      <td>1</td>\n",
       "      <td>1</td>\n",
       "      <td>Futrelle, Mrs. Jacques Heath (Lily May Peel)</td>\n",
       "      <td>1</td>\n",
       "      <td>35</td>\n",
       "      <td>1</td>\n",
       "      <td>0</td>\n",
       "      <td>113803</td>\n",
       "      <td>53.1000</td>\n",
       "      <td>...</td>\n",
       "      <td>1</td>\n",
       "      <td>0.383183</td>\n",
       "      <td>-1.546098</td>\n",
       "      <td>-0.445</td>\n",
       "      <td>0.481288</td>\n",
       "      <td>2.458619</td>\n",
       "      <td>4.302704</td>\n",
       "      <td>-0.712722</td>\n",
       "      <td>-0.434547</td>\n",
       "      <td>-0.603436</td>\n",
       "    </tr>\n",
       "    <tr>\n",
       "      <th>4</th>\n",
       "      <td>5</td>\n",
       "      <td>0</td>\n",
       "      <td>3</td>\n",
       "      <td>Allen, Mr. William Henry</td>\n",
       "      <td>0</td>\n",
       "      <td>35</td>\n",
       "      <td>0</td>\n",
       "      <td>0</td>\n",
       "      <td>373450</td>\n",
       "      <td>8.0500</td>\n",
       "      <td>...</td>\n",
       "      <td>1</td>\n",
       "      <td>-0.487824</td>\n",
       "      <td>0.841916</td>\n",
       "      <td>-0.445</td>\n",
       "      <td>-0.479087</td>\n",
       "      <td>-0.075501</td>\n",
       "      <td>-0.420654</td>\n",
       "      <td>-0.712722</td>\n",
       "      <td>0.454238</td>\n",
       "      <td>-0.603436</td>\n",
       "    </tr>\n",
       "  </tbody>\n",
       "</table>\n",
       "<p>5 rows × 32 columns</p>\n",
       "</div>"
      ],
      "text/plain": [
       "   PassengerId  Survived  Pclass  \\\n",
       "0            1         0       3   \n",
       "1            2         1       1   \n",
       "2            3         1       3   \n",
       "3            4         1       1   \n",
       "4            5         0       3   \n",
       "\n",
       "                                                Name Sex  Age  SibSp  Parch  \\\n",
       "0                            Braund, Mr. Owen Harris   0   22      1      0   \n",
       "1  Cumings, Mrs. John Bradley (Florence Briggs Th...   1   38      1      0   \n",
       "2                             Heikkinen, Miss. Laina   1   26      0      0   \n",
       "3       Futrelle, Mrs. Jacques Heath (Lily May Peel)   1   35      1      0   \n",
       "4                           Allen, Mr. William Henry   0   35      0      0   \n",
       "\n",
       "             Ticket     Fare         ...         Age_bin_id Fare_scaled  \\\n",
       "0         A/5 21171   7.2500         ...                  0   -0.503291   \n",
       "1          PC 17599  71.2833         ...                  1    0.734744   \n",
       "2  STON/O2. 3101282   7.9250         ...                  0   -0.490240   \n",
       "3            113803  53.1000         ...                  1    0.383183   \n",
       "4            373450   8.0500         ...                  1   -0.487824   \n",
       "\n",
       "   Pclass_scaled  Parch_scaled  SibSp_scaled Names_scaled  CabinNumber_scaled  \\\n",
       "0       0.841916        -0.445      0.481288    -0.075501           -0.420654   \n",
       "1      -1.546098        -0.445      0.481288     2.458619            2.843455   \n",
       "2       0.841916        -0.445     -0.479087    -0.920208           -0.420654   \n",
       "3      -1.546098        -0.445      0.481288     2.458619            4.302704   \n",
       "4       0.841916        -0.445     -0.479087    -0.075501           -0.420654   \n",
       "\n",
       "   Age_bin_id_scaled Fare_bin_id_scaled  Embarked_ID_scaled  \n",
       "0          -1.409996          -1.323333           -0.603436  \n",
       "1          -0.712722          -0.434547            0.927373  \n",
       "2          -1.409996           0.454238           -0.603436  \n",
       "3          -0.712722          -0.434547           -0.603436  \n",
       "4          -0.712722           0.454238           -0.603436  \n",
       "\n",
       "[5 rows x 32 columns]"
      ]
     },
     "execution_count": 324,
     "metadata": {},
     "output_type": "execute_result"
    }
   ],
   "source": [
    "df.head()"
   ]
  },
  {
   "cell_type": "markdown",
   "metadata": {},
   "source": [
    "##  Automated feature generation (Feature Engineering)"
   ]
  },
  {
   "cell_type": "code",
   "execution_count": 325,
   "metadata": {
    "collapsed": false
   },
   "outputs": [],
   "source": [
    "numerics = df.loc[:, ['Age_scaled', 'Fare_scaled', 'Pclass_scaled', 'Parch_scaled', 'SibSp_scaled', \n",
    "                      'Names_scaled', 'CabinNumber_scaled', 'Age_bin_id_scaled', 'Fare_bin_id_scaled','Embarked_ID_scaled']]\n",
    "\n",
    "# for each pair of variables, determine which mathmatical operators to use based on redundancy\n",
    "for i in range(0, numerics.columns.size-1):\n",
    "    for j in range(0, numerics.columns.size-1):\n",
    "        col1 = str(numerics.columns.values[i])\n",
    "        col2 = str(numerics.columns.values[j])\n",
    "        # multiply fields together (we allow values to be squared)\n",
    "        if i <= j:\n",
    "            name = col1 + \"*\" + col2\n",
    "            df = pd.concat([df, pd.Series(numerics.iloc[:,i] * numerics.iloc[:,j], name=name)], axis=1)\n",
    "        # add fields together\n",
    "        if i < j:\n",
    "            name = col1 + \"+\" + col2\n",
    "            df = pd.concat([df, pd.Series(numerics.iloc[:,i] + numerics.iloc[:,j], name=name)], axis=1)\n",
    "        # divide and subtract fields from each other\n",
    "        if not i == j:\n",
    "            name = col1 + \"/\" + col2\n",
    "            df = pd.concat([df, pd.Series(numerics.iloc[:,i] / numerics.iloc[:,j], name=name)], axis=1)\n",
    "            name = col1 + \"-\" + col2\n",
    "            df = pd.concat([df, pd.Series(numerics.iloc[:,i] - numerics.iloc[:,j], name=name)], axis=1)"
   ]
  },
  {
   "cell_type": "code",
   "execution_count": 326,
   "metadata": {
    "collapsed": false
   },
   "outputs": [
    {
     "name": "stdout",
     "output_type": "stream",
     "text": [
      "(1309, 257)\n"
     ]
    }
   ],
   "source": [
    "print(df.shape)"
   ]
  },
  {
   "cell_type": "markdown",
   "metadata": {},
   "source": [
    "## Use a Spearman correlation to identify and remove highly correlated features"
   ]
  },
  {
   "cell_type": "code",
   "execution_count": 327,
   "metadata": {
    "collapsed": false
   },
   "outputs": [
    {
     "name": "stdout",
     "output_type": "stream",
     "text": [
      "\n",
      "Dropping 48 highly correlated features...\n",
      " ['Age_bin_id_scaled' 'Age_bin_id_scaled-Age_scaled'\n",
      " 'Age_bin_id_scaled-CabinNumber_scaled' 'Age_bin_id_scaled-Fare_scaled'\n",
      " 'Age_bin_id_scaled-Names_scaled' 'Age_bin_id_scaled-Parch_scaled'\n",
      " 'Age_bin_id_scaled-Pclass_scaled' 'Age_bin_id_scaled-SibSp_scaled'\n",
      " 'Age_scaled' 'CabinNumber_scaled' 'CabinNumber_scaled-Age_scaled'\n",
      " 'CabinNumber_scaled-Fare_scaled' 'CabinNumber_scaled-Names_scaled'\n",
      " 'CabinNumber_scaled-Parch_scaled' 'CabinNumber_scaled-Pclass_scaled'\n",
      " 'CabinNumber_scaled-SibSp_scaled' 'Embarked_ID_scaled'\n",
      " 'Fare_bin_id_scaled' 'Fare_bin_id_scaled-Age_bin_id_scaled'\n",
      " 'Fare_bin_id_scaled-Age_scaled' 'Fare_bin_id_scaled-CabinNumber_scaled'\n",
      " 'Fare_bin_id_scaled-Fare_scaled' 'Fare_bin_id_scaled-Names_scaled'\n",
      " 'Fare_bin_id_scaled-Parch_scaled' 'Fare_bin_id_scaled-Pclass_scaled'\n",
      " 'Fare_bin_id_scaled-SibSp_scaled' 'Fare_scaled' 'Fare_scaled-Age_scaled'\n",
      " 'Names_scaled' 'Names_scaled-Age_scaled' 'Names_scaled-Fare_scaled'\n",
      " 'Names_scaled-Parch_scaled' 'Names_scaled-Pclass_scaled'\n",
      " 'Names_scaled-SibSp_scaled' 'Parch_scaled' 'Parch_scaled*Parch_scaled'\n",
      " 'Parch_scaled-Age_scaled' 'Parch_scaled-Fare_scaled'\n",
      " 'Parch_scaled-Pclass_scaled' 'Pclass_scaled' 'Pclass_scaled-Age_scaled'\n",
      " 'Pclass_scaled-Fare_scaled' 'SibSp_scaled' 'SibSp_scaled*SibSp_scaled'\n",
      " 'SibSp_scaled-Age_scaled' 'SibSp_scaled-Fare_scaled'\n",
      " 'SibSp_scaled-Parch_scaled' 'SibSp_scaled-Pclass_scaled']\n"
     ]
    }
   ],
   "source": [
    "# calculate the correlation matrix (ignore survived and passenger id fields)\n",
    "df_corr = df.drop(['Survived', 'PassengerId'],axis=1).corr(method='spearman')\n",
    "\n",
    "# create a mask to ignore self-\n",
    "mask = np.ones(df_corr.columns.size) - np.eye(df_corr.columns.size)\n",
    "df_corr = mask * df_corr\n",
    "\n",
    "drops = []\n",
    "# loop through each variable\n",
    "for col in df_corr.columns.values:\n",
    "    # if we've already determined to drop the current variable, continue\n",
    "    if np.in1d([col],drops):\n",
    "        continue\n",
    "    \n",
    "    # find all the variables that are highly correlated with the current variable \n",
    "    # and add them to the drop list \n",
    "    corr = df_corr[abs(df_corr[col]) > 0.98].index\n",
    "    drops = np.union1d(drops, corr)\n",
    "\n",
    "print (\"\\nDropping\", drops.shape[0], \"highly correlated features...\\n\", drops)\n",
    "df.drop(drops, axis=1, inplace=True)"
   ]
  },
  {
   "cell_type": "markdown",
   "metadata": {},
   "source": [
    "## Using PCA to reduce dimentionality\n",
    "It is typically useful for linear models unless Lasso regression model is used. When Random Forest model is used, using PCA isn’t particularly helpful."
   ]
  },
  {
   "cell_type": "code",
   "execution_count": 328,
   "metadata": {
    "collapsed": true
   },
   "outputs": [],
   "source": [
    "# Minimum percentage of variance we want to be described by the resulting transformed components\n",
    "#from sklearn.decomposition import PCA\n",
    "#variance_pct = .99\n",
    "\n",
    "# Create PCA object\n",
    "#pca = PCA(n_components=variance_pct)\n",
    "\n",
    "# Transform the initial features\n",
    "#X_transformed = pca.fit_transform(X,y)\n",
    "\n",
    "# Create a data frame from the PCA'd data\n",
    "#pcaDataFrame = pd.DataFrame(X_transformed)\n",
    "\n",
    "#print pcaDataFrame.shape[1], \" components describe \", str(variance_pct)[1:], \"% of the variance\""
   ]
  },
  {
   "cell_type": "markdown",
   "metadata": {},
   "source": [
    "## Random Forest"
   ]
  },
  {
   "cell_type": "code",
   "execution_count": 379,
   "metadata": {
    "collapsed": false
   },
   "outputs": [
    {
     "data": {
      "text/plain": [
       "(891, 209)"
      ]
     },
     "execution_count": 379,
     "metadata": {},
     "output_type": "execute_result"
    }
   ],
   "source": [
    "from sklearn.ensemble import RandomForestClassifier\n",
    "input_df = df.loc[0:890,:]\n",
    "input_df.shape"
   ]
  },
  {
   "cell_type": "code",
   "execution_count": 380,
   "metadata": {
    "collapsed": false
   },
   "outputs": [
    {
     "name": "stderr",
     "output_type": "stream",
     "text": [
      "D:\\Program Files\\Anaconda2\\lib\\site-packages\\ipykernel\\__main__.py:1: SettingWithCopyWarning: \n",
      "A value is trying to be set on a copy of a slice from a DataFrame\n",
      "\n",
      "See the caveats in the documentation: http://pandas.pydata.org/pandas-docs/stable/indexing.html#indexing-view-versus-copy\n",
      "  if __name__ == '__main__':\n"
     ]
    }
   ],
   "source": [
    "input_df.drop([\"Name\",\"Ticket\",\"Embarked\",\"Cabin\",\"Title\",\"Fare_bin\",'Age_bin'], axis=1, inplace=True)\n",
    "\n",
    "features_list = input_df.columns.values[2::]\n",
    "X = input_df.values[:, 2::]\n",
    "y = input_df[\"Survived\"].values\n",
    "\n",
    "# Fit a random forest with (mostly) default parameters to determine feature importance\n",
    "forest = RandomForestClassifier(max_leaf_nodes= 16,criterion='gini', max_features = 4,\n",
    "                                min_samples_split =12,min_samples_leaf=1,oob_score=True, n_estimators=250)\n",
    "forest = forest.fit(X, y)"
   ]
  },
  {
   "cell_type": "code",
   "execution_count": 386,
   "metadata": {
    "collapsed": false
   },
   "outputs": [
    {
     "name": "stdout",
     "output_type": "stream",
     "text": [
      "\n",
      " 4 Important features(> 31 % of max importance):\n",
      " ['Sex' 'Title_ID' 'Age_scaled+Pclass_scaled' 'Fare_scaled-Pclass_scaled']\n",
      "\n",
      "Features sorted by importance (DESC):\n",
      " ['Sex' 'Title_ID' 'Age_scaled+Pclass_scaled' 'Fare_scaled-Pclass_scaled']\n"
     ]
    }
   ],
   "source": [
    "feature_importance = forest.feature_importances_\n",
    "\n",
    "# make importances relative to max importance\n",
    "feature_importance = 100.0 * (feature_importance / feature_importance.max())\n",
    "\n",
    "# A threshold below which to drop features from the final data set. Specifically, this number represents\n",
    "# the percentage of the most important feature's importance value\n",
    "fi_threshold =31\n",
    "# Get the indexes of all features over the importance threshold\n",
    "important_idx = np.where(feature_importance > fi_threshold)[0]\n",
    "\n",
    "# Create a list of all the feature names above the importance threshold\n",
    "important_features = features_list[important_idx]\n",
    "print (\"\\n\", important_features.shape[0], \"Important features(>\", fi_threshold, \"% of max importance):\\n\",important_features)\n",
    "\n",
    "# Get the sorted indexes of important features\n",
    "sorted_idx = np.argsort(feature_importance[important_idx])[::-1]\n",
    "print (\"\\nFeatures sorted by importance (DESC):\\n\", important_features[sorted_idx])"
   ]
  },
  {
   "cell_type": "code",
   "execution_count": 387,
   "metadata": {
    "collapsed": false
   },
   "outputs": [
    {
     "data": {
      "image/png": "[encoded data removed]",
      "text/plain": [
       "<matplotlib.figure.Figure at 0x1f677978>"
      ]
     },
     "metadata": {},
     "output_type": "display_data"
    }
   ],
   "source": [
    "# Adapted from http://scikit-learn.org/stable/auto_examples/ensemble/plot_gradient_boosting_regression.html\n",
    "pos = np.arange(sorted_idx.shape[0]) + .5\n",
    "plt.barh(pos, feature_importance[important_idx][sorted_idx[::-1]], align='center')\n",
    "plt.yticks(pos, important_features[sorted_idx[::-1]])\n",
    "plt.xlabel('Relative Importance')\n",
    "plt.title('Variable Importance')\n",
    "plt.draw()\n",
    "plt.show()\n",
    "\n",
    "# Remove non-important features from the feature set, and reorder those remaining\n",
    "X = X[:, important_idx][:, sorted_idx]"
   ]
  },
  {
   "cell_type": "markdown",
   "metadata": {},
   "source": [
    "# Grid Search and Randomized Search"
   ]
  },
  {
   "cell_type": "code",
   "execution_count": 339,
   "metadata": {
    "collapsed": true
   },
   "outputs": [],
   "source": [
    "# Utility function to report optimal parameters\n",
    "# (adapted from http://scikit-learn.org/stable/auto_examples/randomized_search.html)\n",
    "from sklearn.grid_search import GridSearchCV\n",
    "from sklearn.grid_search import RandomizedSearchCV\n",
    "import operator\n",
    "\n",
    "def report(grid_scores, n_top=5):\n",
    "    params = None\n",
    "    top_scores = sorted(grid_scores, key=operator.itemgetter(1), reverse=True)[:n_top]\n",
    "    for i, score in enumerate(top_scores):\n",
    "        print(\"Parameters with rank: {0}\".format(i + 1))\n",
    "        print(\"Mean validation score: {0:.4f} (std: {1:.4f})\".format(\n",
    "              score.mean_validation_score, np.std(score.cv_validation_scores)))\n",
    "        print(\"Parameters: {0}\".format(score.parameters))\n",
    "        print(\"\")\n",
    "        \n",
    "        if params == None:\n",
    "            params = score.parameters\n",
    "    \n",
    "    return params"
   ]
  },
  {
   "cell_type": "code",
   "execution_count": 340,
   "metadata": {
    "collapsed": false
   },
   "outputs": [
    {
     "data": {
      "text/plain": [
       "1.7320508075688772"
      ]
     },
     "execution_count": 340,
     "metadata": {},
     "output_type": "execute_result"
    }
   ],
   "source": [
    "# The most common value for the max number of features to look at in each split is sqrt(# of features)\n",
    "sqrtfeat = np.sqrt(X.shape[1]) \n",
    "sqrtfeat"
   ]
  },
  {
   "cell_type": "code",
   "execution_count": 341,
   "metadata": {
    "collapsed": false
   },
   "outputs": [
    {
     "data": {
      "text/plain": [
       "891L"
      ]
     },
     "execution_count": 341,
     "metadata": {},
     "output_type": "execute_result"
    }
   ],
   "source": [
    "X.shape[0]"
   ]
  },
  {
   "cell_type": "code",
   "execution_count": 342,
   "metadata": {
    "collapsed": true
   },
   "outputs": [],
   "source": [
    "# Simple grid test (162 combinations)\n",
    "grid_test1 = { \"n_estimators\"      : [50,100, 250, 500],\n",
    "               \"criterion\"         : [\"gini\", \"entropy\"],\n",
    "               \"max_depth\"         : [5, 10,20, 25,30],\n",
    "               \"min_samples_split\" : [2, 5, 10] }\n",
    "\n",
    "# Large randomized test using max_depth to control tree size (5000 possible combinations)\n",
    "random_test1 = { \"n_estimators\"      : np.rint(np.linspace(X.shape[0]/16, X.shape[0]/2, 5)).astype(int),\n",
    "                 \"criterion\"         : [\"gini\", \"entropy\"],\n",
    "                 \"max_features\"      : np.rint(np.linspace(1, X.shape[1], 5)).astype(int),\n",
    "                 \"max_depth\"         : np.rint(np.linspace(1, X.shape[1]*2, 10)).astype(int),\n",
    "                 \"min_samples_split\" : np.rint(np.linspace(2, X.shape[0]/50, 10)).astype(int)} \n",
    "                \n",
    "\n",
    "# Large randomized test using min_samples_leaf and max_leaf_nodes to control tree size (50k combinations)\n",
    "random_test2 = { \"n_estimators\"      : np.rint(np.linspace(X.shape[0]/16, X.shape[0]/2, 5)).astype(int),\n",
    "                 \"criterion\"         : [\"gini\", \"entropy\"],\n",
    "                 \"max_features\"      : np.rint(np.linspace(1, X.shape[1], 5)).astype(int),\n",
    "                 \"min_samples_split\" : np.rint(np.linspace(2, X.shape[0]/50, 10)).astype(int),\n",
    "                 \"min_samples_leaf\"  : np.rint(np.linspace(1, X.shape[0]/50, 10)).astype(int), \n",
    "                 \"max_leaf_nodes\"    : np.rint(np.linspace(10, X.shape[0]/50, 10)).astype(int) }\n",
    "\n",
    "forest = RandomForestClassifier(oob_score=True)"
   ]
  },
  {
   "cell_type": "code",
   "execution_count": 343,
   "metadata": {
    "collapsed": false
   },
   "outputs": [
    {
     "name": "stdout",
     "output_type": "stream",
     "text": [
      "Hyperparameter optimization using GridSearchCV...\n"
     ]
    },
    {
     "data": {
      "text/plain": [
       "GridSearchCV(cv=10, error_score='raise',\n",
       "       estimator=RandomForestClassifier(bootstrap=True, class_weight=None, criterion='gini',\n",
       "            max_depth=None, max_features='auto', max_leaf_nodes=None,\n",
       "            min_samples_leaf=1, min_samples_split=2,\n",
       "            min_weight_fraction_leaf=0.0, n_estimators=10, n_jobs=1,\n",
       "            oob_score=True, random_state=None, verbose=0, warm_start=False),\n",
       "       fit_params={}, iid=True, n_jobs=1,\n",
       "       param_grid={'n_estimators': [50, 100, 250, 500], 'min_samples_split': [2, 5, 10], 'criterion': ['gini', 'entropy'], 'max_depth': [5, 10, 20, 25, 30]},\n",
       "       pre_dispatch='2*n_jobs', refit=True, scoring=None, verbose=0)"
      ]
     },
     "execution_count": 343,
     "metadata": {},
     "output_type": "execute_result"
    }
   ],
   "source": [
    "print (\"Hyperparameter optimization using GridSearchCV...\")\n",
    "grid_search = GridSearchCV(forest, grid_test1, cv=10)\n",
    "grid_search.fit(X, y)"
   ]
  },
  {
   "cell_type": "code",
   "execution_count": 344,
   "metadata": {
    "collapsed": false
   },
   "outputs": [
    {
     "name": "stdout",
     "output_type": "stream",
     "text": [
      "Parameters with rank: 1\n",
      "Mean validation score: 0.8103 (std: 0.0365)\n",
      "Parameters: {'min_samples_split': 10, 'n_estimators': 500, 'criterion': 'entropy', 'max_depth': 25}\n",
      "\n",
      "Parameters with rank: 2\n",
      "Mean validation score: 0.8092 (std: 0.0360)\n",
      "Parameters: {'min_samples_split': 10, 'n_estimators': 500, 'criterion': 'gini', 'max_depth': 20}\n",
      "\n",
      "Parameters with rank: 3\n",
      "Mean validation score: 0.8092 (std: 0.0369)\n",
      "Parameters: {'min_samples_split': 10, 'n_estimators': 500, 'criterion': 'gini', 'max_depth': 30}\n",
      "\n",
      "Parameters with rank: 4\n",
      "Mean validation score: 0.8092 (std: 0.0360)\n",
      "Parameters: {'min_samples_split': 10, 'n_estimators': 250, 'criterion': 'entropy', 'max_depth': 30}\n",
      "\n",
      "Parameters with rank: 5\n",
      "Mean validation score: 0.8081 (std: 0.0377)\n",
      "Parameters: {'min_samples_split': 10, 'n_estimators': 100, 'criterion': 'entropy', 'max_depth': 25}\n",
      "\n"
     ]
    }
   ],
   "source": [
    "best_params_from_grid_search = report(grid_search.grid_scores_)"
   ]
  },
  {
   "cell_type": "code",
   "execution_count": 180,
   "metadata": {
    "collapsed": false
   },
   "outputs": [
    {
     "name": "stdout",
     "output_type": "stream",
     "text": [
      "Hyperparameter optimization using RandomizedSearchCV with max_depth parameter...\n",
      "Parameters with rank: 1\n",
      "Mean validation score: 0.8440 (std: 0.0363)\n",
      "Parameters: {'n_estimators': 55, 'min_samples_split': 2, 'criterion': 'entropy', 'max_depth': 10, 'max_features': 3}\n",
      "\n",
      "Parameters with rank: 2\n",
      "Mean validation score: 0.8418 (std: 0.0401)\n",
      "Parameters: {'n_estimators': 445, 'min_samples_split': 2, 'criterion': 'gini', 'max_depth': 10, 'max_features': 3}\n",
      "\n",
      "Parameters with rank: 3\n",
      "Mean validation score: 0.8406 (std: 0.0408)\n",
      "Parameters: {'n_estimators': 348, 'min_samples_split': 15, 'criterion': 'entropy', 'max_depth': 10, 'max_features': 1}\n",
      "\n",
      "Parameters with rank: 4\n",
      "Mean validation score: 0.8406 (std: 0.0393)\n",
      "Parameters: {'n_estimators': 348, 'min_samples_split': 2, 'criterion': 'gini', 'max_depth': 10, 'max_features': 2}\n",
      "\n",
      "Parameters with rank: 5\n",
      "Mean validation score: 0.8395 (std: 0.0469)\n",
      "Parameters: {'n_estimators': 55, 'min_samples_split': 12, 'criterion': 'entropy', 'max_depth': 8, 'max_features': 3}\n",
      "\n"
     ]
    }
   ],
   "source": [
    "print \"Hyperparameter optimization using RandomizedSearchCV with max_depth parameter...\"\n",
    "grid_search = RandomizedSearchCV(forest, random_test1, cv=10, n_iter=100)\n",
    "grid_search.fit(X, y)\n",
    "best_params_from_rand_search1 = report(grid_search.grid_scores_)"
   ]
  },
  {
   "cell_type": "code",
   "execution_count": 196,
   "metadata": {
    "collapsed": false
   },
   "outputs": [
    {
     "name": "stdout",
     "output_type": "stream",
     "text": [
      "...and using RandomizedSearchCV with min_samples_leaf + max_leaf_nodes parameters...\n",
      "Parameters with rank: 1\n",
      "Mean validation score: 0.8272 (std: 0.0331)\n",
      "Parameters: {'max_leaf_nodes': 16, 'min_samples_leaf': 1, 'n_estimators': 250, 'max_features': 4, 'criterion': 'gini', 'min_samples_split': 12}\n",
      "\n",
      "Parameters with rank: 2\n",
      "Mean validation score: 0.8260 (std: 0.0333)\n",
      "Parameters: {'max_leaf_nodes': 16, 'min_samples_leaf': 1, 'n_estimators': 55, 'max_features': 3, 'criterion': 'entropy', 'min_samples_split': 10}\n",
      "\n",
      "Parameters with rank: 3\n",
      "Mean validation score: 0.8260 (std: 0.0272)\n",
      "Parameters: {'max_leaf_nodes': 12, 'min_samples_leaf': 1, 'n_estimators': 55, 'max_features': 1, 'criterion': 'gini', 'min_samples_split': 7}\n",
      "\n",
      "Parameters with rank: 4\n",
      "Mean validation score: 0.8249 (std: 0.0332)\n",
      "Parameters: {'max_leaf_nodes': 15, 'min_samples_leaf': 3, 'n_estimators': 445, 'max_features': 4, 'criterion': 'gini', 'min_samples_split': 5}\n",
      "\n",
      "Parameters with rank: 5\n",
      "Mean validation score: 0.8249 (std: 0.0291)\n",
      "Parameters: {'max_leaf_nodes': 16, 'min_samples_leaf': 1, 'n_estimators': 152, 'max_features': 2, 'criterion': 'entropy', 'min_samples_split': 5}\n",
      "\n"
     ]
    }
   ],
   "source": [
    "print \"...and using RandomizedSearchCV with min_samples_leaf + max_leaf_nodes parameters...\"\n",
    "grid_search = RandomizedSearchCV(forest, random_test2, cv=10, n_iter=500)\n",
    "grid_search.fit(X, y)\n",
    "best_params_from_rand_search2 = report(grid_search.grid_scores_)"
   ]
  },
  {
   "cell_type": "markdown",
   "metadata": {},
   "source": [
    "**Go back to change the parameters in the random forest model**"
   ]
  },
  {
   "cell_type": "markdown",
   "metadata": {
    "collapsed": false
   },
   "source": [
    "# Learning Curve"
   ]
  },
  {
   "cell_type": "code",
   "execution_count": 207,
   "metadata": {
    "collapsed": false
   },
   "outputs": [
    {
     "data": {
      "text/plain": [
       "<module 'matplotlib.pyplot' from 'D:\\Program Files\\Anaconda2\\lib\\site-packages\\matplotlib\\pyplot.py'>"
      ]
     },
     "execution_count": 207,
     "metadata": {},
     "output_type": "execute_result"
    },
    {
     "data": {
      "image/png": "[encoded data removed]",
      "text/plain": [
       "<matplotlib.figure.Figure at 0x15bb94e0>"
      ]
     },
     "metadata": {},
     "output_type": "display_data"
    }
   ],
   "source": [
    "import numpy as np\n",
    "import matplotlib.pyplot as plt\n",
    "from sklearn import cross_validation\n",
    "from sklearn.naive_bayes import GaussianNB\n",
    "from sklearn.svm import SVC\n",
    "from sklearn.datasets import load_digits\n",
    "from sklearn.learning_curve import learning_curve\n",
    "\n",
    "\n",
    "def plot_learning_curve(estimator, title, X, y, ylim=None, cv=None,\n",
    "                        n_jobs=1, train_sizes=np.linspace(.1, 1.0, 5)):\n",
    "    \"\"\"\n",
    "    Generate a simple plot of the test and traning learning curve.\n",
    "\n",
    "    Parameters\n",
    "    ----------\n",
    "    estimator : object type that implements the \"fit\" and \"predict\" methods\n",
    "        An object of that type which is cloned for each validation.\n",
    "\n",
    "    title : string\n",
    "        Title for the chart.\n",
    "\n",
    "    X : array-like, shape (n_samples, n_features)\n",
    "        Training vector, where n_samples is the number of samples and\n",
    "        n_features is the number of features.\n",
    "\n",
    "    y : array-like, shape (n_samples) or (n_samples, n_features), optional\n",
    "        Target relative to X for classification or regression;\n",
    "        None for unsupervised learning.\n",
    "\n",
    "    ylim : tuple, shape (ymin, ymax), optional\n",
    "        Defines minimum and maximum yvalues plotted.\n",
    "\n",
    "    cv : integer, cross-validation generator, optional\n",
    "        If an integer is passed, it is the number of folds (defaults to 3).\n",
    "        Specific cross-validation objects can be passed, see\n",
    "        sklearn.cross_validation module for the list of possible objects\n",
    "\n",
    "    n_jobs : integer, optional\n",
    "        Number of jobs to run in parallel (default 1).\n",
    "    \"\"\"\n",
    "    plt.figure()\n",
    "    plt.title(title)\n",
    "    if ylim is not None:\n",
    "        plt.ylim(*ylim)\n",
    "    plt.xlabel(\"Training examples\")\n",
    "    plt.ylabel(\"Score\")\n",
    "    train_sizes, train_scores, test_scores = learning_curve(\n",
    "        estimator, X, y, cv=cv, n_jobs=n_jobs, train_sizes=train_sizes)\n",
    "    train_scores_mean = np.mean(train_scores, axis=1)\n",
    "    train_scores_std = np.std(train_scores, axis=1)\n",
    "    test_scores_mean = np.mean(test_scores, axis=1)\n",
    "    test_scores_std = np.std(test_scores, axis=1)\n",
    "    plt.grid()\n",
    "\n",
    "    plt.fill_between(train_sizes, train_scores_mean - train_scores_std,\n",
    "                     train_scores_mean + train_scores_std, alpha=0.1,\n",
    "                     color=\"r\")\n",
    "    plt.fill_between(train_sizes, test_scores_mean - test_scores_std,\n",
    "                     test_scores_mean + test_scores_std, alpha=0.1, color=\"g\")\n",
    "    plt.plot(train_sizes, train_scores_mean, 'o-', color=\"r\",\n",
    "             label=\"Training score\")\n",
    "    plt.plot(train_sizes, test_scores_mean, 'o-', color=\"g\",\n",
    "             label=\"Cross-validation score\")\n",
    "\n",
    "    plt.legend(loc=\"best\")\n",
    "    plt.gca().invert_yaxis()\n",
    "    return plt\n",
    "title = \"Random Forest\"\n",
    "plot_learning_curve(forest,title, X, y, cv = 10, train_sizes=np.linspace(.1, 1., 15))"
   ]
  },
  {
   "cell_type": "markdown",
   "metadata": {},
   "source": [
    "# Test Set Prediction"
   ]
  },
  {
   "cell_type": "code",
   "execution_count": 388,
   "metadata": {
    "collapsed": false
   },
   "outputs": [
    {
     "name": "stderr",
     "output_type": "stream",
     "text": [
      "D:\\Program Files\\Anaconda2\\lib\\site-packages\\ipykernel\\__main__.py:3: SettingWithCopyWarning: \n",
      "A value is trying to be set on a copy of a slice from a DataFrame\n",
      "\n",
      "See the caveats in the documentation: http://pandas.pydata.org/pandas-docs/stable/indexing.html#indexing-view-versus-copy\n",
      "  app.launch_new_instance()\n"
     ]
    }
   ],
   "source": [
    "submit_df = df.loc[891:1309,:]\n",
    "\n",
    "submit_df.drop([\"Name\",\"Ticket\",\"Embarked\",\"Cabin\",\"Title\",\"Fare_bin\",'Age_bin'], axis=1, inplace=True)\n",
    "\n",
    "features_list = submit_df.columns.values[1::]\n",
    "submit_X = submit_df.values[:, 2::]"
   ]
  },
  {
   "cell_type": "code",
   "execution_count": 389,
   "metadata": {
    "collapsed": false
   },
   "outputs": [],
   "source": [
    "submit_X = submit_X[:, important_idx][:, sorted_idx]"
   ]
  },
  {
   "cell_type": "code",
   "execution_count": 390,
   "metadata": {
    "collapsed": false
   },
   "outputs": [
    {
     "name": "stdout",
     "output_type": "stream",
     "text": [
      "0.875420875421\n"
     ]
    }
   ],
   "source": [
    "forest = forest.fit(X, y)\n",
    "print (forest.score(X, y))"
   ]
  },
  {
   "cell_type": "code",
   "execution_count": 391,
   "metadata": {
    "collapsed": true
   },
   "outputs": [],
   "source": [
    "submit_y = forest.predict(submit_X)"
   ]
  },
  {
   "cell_type": "code",
   "execution_count": 393,
   "metadata": {
    "collapsed": false
   },
   "outputs": [
    {
     "name": "stdout",
     "output_type": "stream",
     "text": [
      "(418, 1)\n"
     ]
    }
   ],
   "source": [
    "PassengerId = np.array(submit_df[\"PassengerId\"]).astype(int)\n",
    "\n",
    "my_solution_grid = pd.DataFrame(submit_y, PassengerId, columns = [\"Survived\"])\n",
    "\n",
    "# Check that your data frame has 418 entries\n",
    "print(my_solution_grid.shape)\n",
    "\n",
    "# Write your solution to a csv file with the name my_solution.csv\n",
    "my_solution_grid.to_csv(\"my_ran.csv\", index_label = [\"PassengerId\"])"
   ]
  },
  {
   "cell_type": "code",
   "execution_count": null,
   "metadata": {
    "collapsed": true
   },
   "outputs": [],
   "source": []
  },
  {
   "cell_type": "code",
   "execution_count": null,
   "metadata": {
    "collapsed": false
   },
   "outputs": [],
   "source": []
  },
  {
   "cell_type": "code",
   "execution_count": null,
   "metadata": {
    "collapsed": true
   },
   "outputs": [],
   "source": []
  }
 ],
 "metadata": {
  "kernelspec": {
   "display_name": "Python 2",
   "language": "python",
   "name": "python2"
  },
  "language_info": {
   "codemirror_mode": {
    "name": "ipython",
    "version": 2
   },
   "file_extension": ".py",
   "mimetype": "text/x-python",
   "name": "python",
   "nbconvert_exporter": "python",
   "pygments_lexer": "ipython2",
   "version": "2.7.11"
  }
 },
 "nbformat": 4,
 "nbformat_minor": 0
}
